{
 "cells": [
  {
   "cell_type": "code",
   "execution_count": 31,
   "metadata": {},
   "outputs": [],
   "source": [
    "import pandas as pd\n",
    "import numpy as np\n",
    "import seaborn as sns\n",
    "import matplotlib.pyplot as plt"
   ]
  },
  {
   "cell_type": "code",
   "execution_count": 35,
   "metadata": {},
   "outputs": [],
   "source": [
    "path = \"https://raw.githubusercontent.com/DSEI21000-S21/project-tennis-ml/main/atp_matches/atp_matches-2000-2021_expanded.csv\"\n",
    "\n",
    "def readData(path):\n",
    "    df = pd.read_csv(path)\n",
    "    return df\n",
    "\n",
    "def dropGibberishRows(dataframe, column_name, filter_variable):\n",
    "    index_list = list(dataframe[dataframe[column_name] == filter_variable].index)\n",
    "    dataframe = dataframe.drop(index_list)\n",
    "    return dataframe\n",
    "\n",
    "def encodeColumn(dataframe, column_list = []):\n",
    "    df = pd.get_dummies(dataframe, columns= column_list)\n",
    "    return df\n",
    "\n",
    "def convertDate(dataframe, date):\n",
    "    dataframe[date] = pd.to_datetime(dataframe[date], format = '%Y%m%d', errors='coerce')\n",
    "    return dataframe\n",
    "\n",
    "def addDateFeatures(dataframe, date):\n",
    "    dataframe['year'] = dataframe[date].dt.year\n",
    "    dataframe['month'] = dataframe[date].dt.month\n",
    "    dataframe['day'] = dataframe[date].dt.day\n",
    "    return dataframe\n",
    "\n",
    "def appendTarget(dataframe, winner, loser):\n",
    "    dataframe[winner] = 1\n",
    "    dataframe[loser] = 0\n",
    "    return dataframe\n",
    "\n",
    "def getMissingDataPercentage(dataframe):\n",
    "    percent_missing = dataframe.isnull().sum() * 100 / len(dataframe)\n",
    "    missing_value_df = pd.DataFrame({'column_name': dataframe.columns,\n",
    "                                 'percent_missing': percent_missing})\n",
    "    pd.set_option(\"max_rows\", None)\n",
    "    return missing_value_df\n",
    "\n",
    "def formatColumns(dataframe):\n",
    "    columns = list(dataframe.columns)\n",
    "    renamed_columns = [i.lower().strip().replace(' ', \"_\").replace(':','') for i in columns]\n",
    "    renamed_columns_dict = {columns[i]: renamed_columns[i] for i in range(len(columns))}\n",
    "    dataframe = dataframe.rename(columns = renamed_columns_dict)\n",
    "    return dataframe\n",
    "\n",
    "def convertColumnsToNumeric(dataframe, columns = []):\n",
    "    dataframe[columns] = dataframe[columns].apply(pd.to_numeric, errors ='coerce')\n",
    "    return dataframe \n",
    "\n",
    "def fillMissingData(dataframe, cols):\n",
    "    dataframe[cols]= dataframe[cols].fillna(dataframe.mode().iloc[0])\n",
    "    return dataframe"
   ]
  },
  {
   "cell_type": "code",
   "execution_count": 36,
   "metadata": {},
   "outputs": [
    {
     "name": "stdout",
     "output_type": "stream",
     "text": [
      "<class 'pandas.core.frame.DataFrame'>\n",
      "RangeIndex: 128070 entries, 0 to 128069\n",
      "Data columns (total 31 columns):\n",
      " #   Column              Non-Null Count   Dtype  \n",
      "---  ------              --------------   -----  \n",
      " 0   tourney_id          128070 non-null  object \n",
      " 1   tourney_name        128070 non-null  object \n",
      " 2   surface             127674 non-null  object \n",
      " 3   draw_size           128070 non-null  int64  \n",
      " 4   tourney_level       128070 non-null  object \n",
      " 5   tourney_date        128070 non-null  int64  \n",
      " 6   match_num           128070 non-null  int64  \n",
      " 7   player_id           128070 non-null  int64  \n",
      " 8   player_seed         41078 non-null   float64\n",
      " 9   player_entry        20407 non-null   object \n",
      " 10  player_name         128070 non-null  object \n",
      " 11  player_hand         128002 non-null  object \n",
      " 12  player_height       111681 non-null  float64\n",
      " 13  player_ioc          128070 non-null  object \n",
      " 14  player_age          128042 non-null  float64\n",
      " 15  score               128070 non-null  object \n",
      " 16  best_of             128070 non-null  int64  \n",
      " 17  round               128070 non-null  object \n",
      " 18  minutes             113442 non-null  float64\n",
      " 19  ace                 116074 non-null  float64\n",
      " 20  double_fault        116074 non-null  float64\n",
      " 21  service_points_won  116074 non-null  float64\n",
      " 22  first_serve_made    116074 non-null  float64\n",
      " 23  first_serve_won     116074 non-null  float64\n",
      " 24   second_serve_won   116074 non-null  float64\n",
      " 25  serve_game          116074 non-null  float64\n",
      " 26  break_point_saved   116074 non-null  float64\n",
      " 27  break_point_faced   116074 non-null  float64\n",
      " 28  player_rank         126215 non-null  float64\n",
      " 29  player_rank_points  126215 non-null  float64\n",
      " 30  target              128070 non-null  int64  \n",
      "dtypes: float64(15), int64(6), object(10)\n",
      "memory usage: 30.3+ MB\n"
     ]
    }
   ],
   "source": [
    "atp_data = readData(path)\n",
    "atp_data.info()"
   ]
  },
  {
   "cell_type": "code",
   "execution_count": null,
   "metadata": {},
   "outputs": [],
   "source": []
  }
 ],
 "metadata": {
  "kernelspec": {
   "display_name": "Python 3",
   "language": "python",
   "name": "python3"
  },
  "language_info": {
   "codemirror_mode": {
    "name": "ipython",
    "version": 3
   },
   "file_extension": ".py",
   "mimetype": "text/x-python",
   "name": "python",
   "nbconvert_exporter": "python",
   "pygments_lexer": "ipython3",
   "version": "3.8.3"
  }
 },
 "nbformat": 4,
 "nbformat_minor": 4
}
