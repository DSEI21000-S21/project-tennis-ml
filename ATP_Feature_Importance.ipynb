{
 "cells": [
  {
   "cell_type": "code",
   "execution_count": 32,
   "id": "41d2c4ce",
   "metadata": {},
   "outputs": [],
   "source": [
    "import pandas as pd\n",
    "from sklearn.ensemble import RandomForestClassifier\n",
    "from sklearn.model_selection import train_test_split\n",
    "from sklearn.metrics import accuracy_score, plot_roc_curve, classification_report\n",
    "import matplotlib.pyplot as plt"
   ]
  },
  {
   "cell_type": "code",
   "execution_count": 33,
   "id": "98e651d4",
   "metadata": {},
   "outputs": [],
   "source": [
    "atp_df = pd.read_pickle('atp_cleaned_data.pkl')"
   ]
  },
  {
   "cell_type": "code",
   "execution_count": 34,
   "id": "64b91dee",
   "metadata": {},
   "outputs": [
    {
     "data": {
      "text/plain": [
       "draw_size             0\n",
       "match_num             0\n",
       "player_id             0\n",
       "player_seed           0\n",
       "player_height         0\n",
       "player_age            0\n",
       "best_of               0\n",
       "minutes               0\n",
       "ace                   0\n",
       "double_fault          0\n",
       "service_points_won    0\n",
       "first_serve_made      0\n",
       "first_serve_won       0\n",
       "second_serve_won      0\n",
       "serve_game            0\n",
       "break_point_saved     0\n",
       "break_point_faced     0\n",
       "player_rank           0\n",
       "player_rank_points    0\n",
       "target                0\n",
       "year                  0\n",
       "month                 0\n",
       "day                   0\n",
       "surface_carpet        0\n",
       "surface_clay          0\n",
       "surface_grass         0\n",
       "surface_hard          0\n",
       "tourney_level_a       0\n",
       "tourney_level_d       0\n",
       "tourney_level_f       0\n",
       "tourney_level_g       0\n",
       "tourney_level_m       0\n",
       "player_hand_l         0\n",
       "player_hand_r         0\n",
       "player_hand_u         0\n",
       "round_br              0\n",
       "round_er              0\n",
       "round_f               0\n",
       "round_qf              0\n",
       "round_r128            0\n",
       "round_r16             0\n",
       "round_r32             0\n",
       "round_r64             0\n",
       "round_rr              0\n",
       "round_sf              0\n",
       "dtype: int64"
      ]
     },
     "execution_count": 34,
     "metadata": {},
     "output_type": "execute_result"
    }
   ],
   "source": [
    "atp_df.isna().sum()"
   ]
  },
  {
   "cell_type": "code",
   "execution_count": 35,
   "id": "860b22b0",
   "metadata": {},
   "outputs": [
    {
     "data": {
      "text/plain": [
       "['draw_size',\n",
       " 'match_num',\n",
       " 'player_id',\n",
       " 'player_seed',\n",
       " 'player_height',\n",
       " 'player_age',\n",
       " 'best_of',\n",
       " 'minutes',\n",
       " 'ace',\n",
       " 'double_fault',\n",
       " 'service_points_won',\n",
       " 'first_serve_made',\n",
       " 'first_serve_won',\n",
       " 'second_serve_won',\n",
       " 'serve_game',\n",
       " 'break_point_saved',\n",
       " 'break_point_faced',\n",
       " 'player_rank',\n",
       " 'player_rank_points',\n",
       " 'target',\n",
       " 'year',\n",
       " 'month',\n",
       " 'day',\n",
       " 'surface_carpet',\n",
       " 'surface_clay',\n",
       " 'surface_grass',\n",
       " 'surface_hard',\n",
       " 'tourney_level_a',\n",
       " 'tourney_level_d',\n",
       " 'tourney_level_f',\n",
       " 'tourney_level_g',\n",
       " 'tourney_level_m',\n",
       " 'player_hand_l',\n",
       " 'player_hand_r',\n",
       " 'player_hand_u',\n",
       " 'round_br',\n",
       " 'round_er',\n",
       " 'round_f',\n",
       " 'round_qf',\n",
       " 'round_r128',\n",
       " 'round_r16',\n",
       " 'round_r32',\n",
       " 'round_r64',\n",
       " 'round_rr',\n",
       " 'round_sf']"
      ]
     },
     "execution_count": 35,
     "metadata": {},
     "output_type": "execute_result"
    }
   ],
   "source": [
    "list(atp_df.columns)"
   ]
  },
  {
   "cell_type": "code",
   "execution_count": 36,
   "id": "fdc3026b",
   "metadata": {},
   "outputs": [],
   "source": [
    "y = atp_df[\"target\"]\n",
    "X = atp_df.drop([\"target\"], axis=1)"
   ]
  },
  {
   "cell_type": "code",
   "execution_count": 37,
   "id": "29ddf9b5",
   "metadata": {},
   "outputs": [],
   "source": [
    "X_train, X_test, y_train, y_test = train_test_split(X, y, test_size=0.3, random_state=42)"
   ]
  },
  {
   "cell_type": "code",
   "execution_count": 38,
   "id": "f03ff682",
   "metadata": {},
   "outputs": [],
   "source": [
    "rf = RandomForestClassifier()"
   ]
  },
  {
   "cell_type": "code",
   "execution_count": 39,
   "id": "deea7959",
   "metadata": {},
   "outputs": [
    {
     "data": {
      "text/plain": [
       "RandomForestClassifier()"
      ]
     },
     "execution_count": 39,
     "metadata": {},
     "output_type": "execute_result"
    }
   ],
   "source": [
    "rf.fit(X_train, y_train)"
   ]
  },
  {
   "cell_type": "code",
   "execution_count": 40,
   "id": "ed37d051",
   "metadata": {},
   "outputs": [],
   "source": [
    "names = X.columns"
   ]
  },
  {
   "cell_type": "code",
   "execution_count": 41,
   "id": "26b9f505",
   "metadata": {},
   "outputs": [
    {
     "name": "stdout",
     "output_type": "stream",
     "text": [
      "Features sorted by their score:\n",
      "[(0.1656, 'break_point_faced'), (0.0729, 'first_serve_won'), (0.0555, 'player_rank_points'), (0.0512, 'player_rank'), (0.0485, 'player_age'), (0.0479, 'second_serve_won'), (0.0478, 'break_point_saved'), (0.0468, 'service_points_won'), (0.0439, 'player_id'), (0.0407, 'match_num'), (0.0396, 'first_serve_made'), (0.0378, 'minutes'), (0.0347, 'day'), (0.0328, 'ace'), (0.0305, 'year'), (0.0279, 'player_height'), (0.0259, 'player_seed'), (0.0252, 'serve_game'), (0.0245, 'double_fault'), (0.0222, 'month'), (0.0122, 'draw_size'), (0.0067, 'surface_clay'), (0.006, 'surface_hard'), (0.005, 'round_r32'), (0.0044, 'best_of'), (0.0043, 'round_r16'), (0.004, 'player_hand_r'), (0.0039, 'round_r64'), (0.0038, 'player_hand_l'), (0.0036, 'surface_grass'), (0.0034, 'round_qf'), (0.0033, 'tourney_level_a'), (0.0031, 'tourney_level_m'), (0.0029, 'tourney_level_g'), (0.0026, 'round_r128'), (0.0024, 'round_sf'), (0.002, 'surface_carpet'), (0.0015, 'round_f'), (0.0011, 'round_rr'), (0.0009, 'player_hand_u'), (0.0008, 'tourney_level_d'), (0.0003, 'tourney_level_f'), (0.0, 'round_er'), (0.0, 'round_br')]\n"
     ]
    }
   ],
   "source": [
    "print(\"Features sorted by their score:\")\n",
    "print(sorted(zip(map(lambda x: round(x, 4), rf.feature_importances_), names), \n",
    "             reverse=True))"
   ]
  },
  {
   "cell_type": "code",
   "execution_count": 42,
   "id": "1b634965",
   "metadata": {},
   "outputs": [],
   "source": [
    "feature_importance = sorted(zip(map(lambda x: round(x, 4), rf.feature_importances_), names), \n",
    "             reverse=True)"
   ]
  },
  {
   "cell_type": "code",
   "execution_count": 43,
   "id": "157ef5ef",
   "metadata": {},
   "outputs": [
    {
     "data": {
      "text/html": [
       "<div>\n",
       "<style scoped>\n",
       "    .dataframe tbody tr th:only-of-type {\n",
       "        vertical-align: middle;\n",
       "    }\n",
       "\n",
       "    .dataframe tbody tr th {\n",
       "        vertical-align: top;\n",
       "    }\n",
       "\n",
       "    .dataframe thead th {\n",
       "        text-align: right;\n",
       "    }\n",
       "</style>\n",
       "<table border=\"1\" class=\"dataframe\">\n",
       "  <thead>\n",
       "    <tr style=\"text-align: right;\">\n",
       "      <th></th>\n",
       "      <th>0</th>\n",
       "      <th>1</th>\n",
       "    </tr>\n",
       "  </thead>\n",
       "  <tbody>\n",
       "    <tr>\n",
       "      <th>0</th>\n",
       "      <td>0.1656</td>\n",
       "      <td>break_point_faced</td>\n",
       "    </tr>\n",
       "    <tr>\n",
       "      <th>1</th>\n",
       "      <td>0.0729</td>\n",
       "      <td>first_serve_won</td>\n",
       "    </tr>\n",
       "    <tr>\n",
       "      <th>2</th>\n",
       "      <td>0.0555</td>\n",
       "      <td>player_rank_points</td>\n",
       "    </tr>\n",
       "    <tr>\n",
       "      <th>3</th>\n",
       "      <td>0.0512</td>\n",
       "      <td>player_rank</td>\n",
       "    </tr>\n",
       "    <tr>\n",
       "      <th>4</th>\n",
       "      <td>0.0485</td>\n",
       "      <td>player_age</td>\n",
       "    </tr>\n",
       "    <tr>\n",
       "      <th>5</th>\n",
       "      <td>0.0479</td>\n",
       "      <td>second_serve_won</td>\n",
       "    </tr>\n",
       "    <tr>\n",
       "      <th>6</th>\n",
       "      <td>0.0478</td>\n",
       "      <td>break_point_saved</td>\n",
       "    </tr>\n",
       "    <tr>\n",
       "      <th>7</th>\n",
       "      <td>0.0468</td>\n",
       "      <td>service_points_won</td>\n",
       "    </tr>\n",
       "    <tr>\n",
       "      <th>8</th>\n",
       "      <td>0.0439</td>\n",
       "      <td>player_id</td>\n",
       "    </tr>\n",
       "    <tr>\n",
       "      <th>9</th>\n",
       "      <td>0.0407</td>\n",
       "      <td>match_num</td>\n",
       "    </tr>\n",
       "    <tr>\n",
       "      <th>10</th>\n",
       "      <td>0.0396</td>\n",
       "      <td>first_serve_made</td>\n",
       "    </tr>\n",
       "    <tr>\n",
       "      <th>11</th>\n",
       "      <td>0.0378</td>\n",
       "      <td>minutes</td>\n",
       "    </tr>\n",
       "    <tr>\n",
       "      <th>12</th>\n",
       "      <td>0.0347</td>\n",
       "      <td>day</td>\n",
       "    </tr>\n",
       "    <tr>\n",
       "      <th>13</th>\n",
       "      <td>0.0328</td>\n",
       "      <td>ace</td>\n",
       "    </tr>\n",
       "    <tr>\n",
       "      <th>14</th>\n",
       "      <td>0.0305</td>\n",
       "      <td>year</td>\n",
       "    </tr>\n",
       "    <tr>\n",
       "      <th>15</th>\n",
       "      <td>0.0279</td>\n",
       "      <td>player_height</td>\n",
       "    </tr>\n",
       "    <tr>\n",
       "      <th>16</th>\n",
       "      <td>0.0259</td>\n",
       "      <td>player_seed</td>\n",
       "    </tr>\n",
       "    <tr>\n",
       "      <th>17</th>\n",
       "      <td>0.0252</td>\n",
       "      <td>serve_game</td>\n",
       "    </tr>\n",
       "    <tr>\n",
       "      <th>18</th>\n",
       "      <td>0.0245</td>\n",
       "      <td>double_fault</td>\n",
       "    </tr>\n",
       "    <tr>\n",
       "      <th>19</th>\n",
       "      <td>0.0222</td>\n",
       "      <td>month</td>\n",
       "    </tr>\n",
       "    <tr>\n",
       "      <th>20</th>\n",
       "      <td>0.0122</td>\n",
       "      <td>draw_size</td>\n",
       "    </tr>\n",
       "    <tr>\n",
       "      <th>21</th>\n",
       "      <td>0.0067</td>\n",
       "      <td>surface_clay</td>\n",
       "    </tr>\n",
       "    <tr>\n",
       "      <th>22</th>\n",
       "      <td>0.0060</td>\n",
       "      <td>surface_hard</td>\n",
       "    </tr>\n",
       "    <tr>\n",
       "      <th>23</th>\n",
       "      <td>0.0050</td>\n",
       "      <td>round_r32</td>\n",
       "    </tr>\n",
       "    <tr>\n",
       "      <th>24</th>\n",
       "      <td>0.0044</td>\n",
       "      <td>best_of</td>\n",
       "    </tr>\n",
       "    <tr>\n",
       "      <th>25</th>\n",
       "      <td>0.0043</td>\n",
       "      <td>round_r16</td>\n",
       "    </tr>\n",
       "    <tr>\n",
       "      <th>26</th>\n",
       "      <td>0.0040</td>\n",
       "      <td>player_hand_r</td>\n",
       "    </tr>\n",
       "    <tr>\n",
       "      <th>27</th>\n",
       "      <td>0.0039</td>\n",
       "      <td>round_r64</td>\n",
       "    </tr>\n",
       "    <tr>\n",
       "      <th>28</th>\n",
       "      <td>0.0038</td>\n",
       "      <td>player_hand_l</td>\n",
       "    </tr>\n",
       "    <tr>\n",
       "      <th>29</th>\n",
       "      <td>0.0036</td>\n",
       "      <td>surface_grass</td>\n",
       "    </tr>\n",
       "    <tr>\n",
       "      <th>30</th>\n",
       "      <td>0.0034</td>\n",
       "      <td>round_qf</td>\n",
       "    </tr>\n",
       "    <tr>\n",
       "      <th>31</th>\n",
       "      <td>0.0033</td>\n",
       "      <td>tourney_level_a</td>\n",
       "    </tr>\n",
       "    <tr>\n",
       "      <th>32</th>\n",
       "      <td>0.0031</td>\n",
       "      <td>tourney_level_m</td>\n",
       "    </tr>\n",
       "    <tr>\n",
       "      <th>33</th>\n",
       "      <td>0.0029</td>\n",
       "      <td>tourney_level_g</td>\n",
       "    </tr>\n",
       "    <tr>\n",
       "      <th>34</th>\n",
       "      <td>0.0026</td>\n",
       "      <td>round_r128</td>\n",
       "    </tr>\n",
       "    <tr>\n",
       "      <th>35</th>\n",
       "      <td>0.0024</td>\n",
       "      <td>round_sf</td>\n",
       "    </tr>\n",
       "    <tr>\n",
       "      <th>36</th>\n",
       "      <td>0.0020</td>\n",
       "      <td>surface_carpet</td>\n",
       "    </tr>\n",
       "    <tr>\n",
       "      <th>37</th>\n",
       "      <td>0.0015</td>\n",
       "      <td>round_f</td>\n",
       "    </tr>\n",
       "    <tr>\n",
       "      <th>38</th>\n",
       "      <td>0.0011</td>\n",
       "      <td>round_rr</td>\n",
       "    </tr>\n",
       "    <tr>\n",
       "      <th>39</th>\n",
       "      <td>0.0009</td>\n",
       "      <td>player_hand_u</td>\n",
       "    </tr>\n",
       "    <tr>\n",
       "      <th>40</th>\n",
       "      <td>0.0008</td>\n",
       "      <td>tourney_level_d</td>\n",
       "    </tr>\n",
       "    <tr>\n",
       "      <th>41</th>\n",
       "      <td>0.0003</td>\n",
       "      <td>tourney_level_f</td>\n",
       "    </tr>\n",
       "    <tr>\n",
       "      <th>42</th>\n",
       "      <td>0.0000</td>\n",
       "      <td>round_er</td>\n",
       "    </tr>\n",
       "    <tr>\n",
       "      <th>43</th>\n",
       "      <td>0.0000</td>\n",
       "      <td>round_br</td>\n",
       "    </tr>\n",
       "  </tbody>\n",
       "</table>\n",
       "</div>"
      ],
      "text/plain": [
       "         0                   1\n",
       "0   0.1656   break_point_faced\n",
       "1   0.0729     first_serve_won\n",
       "2   0.0555  player_rank_points\n",
       "3   0.0512         player_rank\n",
       "4   0.0485          player_age\n",
       "5   0.0479    second_serve_won\n",
       "6   0.0478   break_point_saved\n",
       "7   0.0468  service_points_won\n",
       "8   0.0439           player_id\n",
       "9   0.0407           match_num\n",
       "10  0.0396    first_serve_made\n",
       "11  0.0378             minutes\n",
       "12  0.0347                 day\n",
       "13  0.0328                 ace\n",
       "14  0.0305                year\n",
       "15  0.0279       player_height\n",
       "16  0.0259         player_seed\n",
       "17  0.0252          serve_game\n",
       "18  0.0245        double_fault\n",
       "19  0.0222               month\n",
       "20  0.0122           draw_size\n",
       "21  0.0067        surface_clay\n",
       "22  0.0060        surface_hard\n",
       "23  0.0050           round_r32\n",
       "24  0.0044             best_of\n",
       "25  0.0043           round_r16\n",
       "26  0.0040       player_hand_r\n",
       "27  0.0039           round_r64\n",
       "28  0.0038       player_hand_l\n",
       "29  0.0036       surface_grass\n",
       "30  0.0034            round_qf\n",
       "31  0.0033     tourney_level_a\n",
       "32  0.0031     tourney_level_m\n",
       "33  0.0029     tourney_level_g\n",
       "34  0.0026          round_r128\n",
       "35  0.0024            round_sf\n",
       "36  0.0020      surface_carpet\n",
       "37  0.0015             round_f\n",
       "38  0.0011            round_rr\n",
       "39  0.0009       player_hand_u\n",
       "40  0.0008     tourney_level_d\n",
       "41  0.0003     tourney_level_f\n",
       "42  0.0000            round_er\n",
       "43  0.0000            round_br"
      ]
     },
     "execution_count": 43,
     "metadata": {},
     "output_type": "execute_result"
    }
   ],
   "source": [
    "pd.DataFrame(feature_importance)"
   ]
  },
  {
   "cell_type": "code",
   "execution_count": 47,
   "id": "ea992df1",
   "metadata": {},
   "outputs": [
    {
     "data": {
      "text/plain": [
       "0.7683298196298899"
      ]
     },
     "execution_count": 47,
     "metadata": {},
     "output_type": "execute_result"
    }
   ],
   "source": [
    "accuracy_score(y_test, rf.predict(X_test))"
   ]
  },
  {
   "cell_type": "code",
   "execution_count": 49,
   "id": "bd1a50ec",
   "metadata": {},
   "outputs": [
    {
     "data": {
      "image/png": "[encoded data removed]",
      "text/plain": [
       "<Figure size 432x288 with 1 Axes>"
      ]
     },
     "metadata": {
      "needs_background": "light"
     },
     "output_type": "display_data"
    }
   ],
   "source": [
    "plot_roc_curve(rf, X_test, y_test)\n",
    "plt.show()  "
   ]
  },
  {
   "cell_type": "code",
   "execution_count": 50,
   "id": "4fde0944",
   "metadata": {},
   "outputs": [
    {
     "name": "stdout",
     "output_type": "stream",
     "text": [
      "              precision    recall  f1-score   support\n",
      "\n",
      "           0       0.76      0.78      0.77     19115\n",
      "           1       0.77      0.76      0.77     19306\n",
      "\n",
      "    accuracy                           0.77     38421\n",
      "   macro avg       0.77      0.77      0.77     38421\n",
      "weighted avg       0.77      0.77      0.77     38421\n",
      "\n"
     ]
    }
   ],
   "source": [
    "print(classification_report(y_test, rf.predict(X_test)))"
   ]
  },
  {
   "cell_type": "code",
   "execution_count": null,
   "id": "9c217c3c",
   "metadata": {},
   "outputs": [],
   "source": []
  }
 ],
 "metadata": {
  "kernelspec": {
   "display_name": "Python 3",
   "language": "python",
   "name": "python3"
  },
  "language_info": {
   "codemirror_mode": {
    "name": "ipython",
    "version": 3
   },
   "file_extension": ".py",
   "mimetype": "text/x-python",
   "name": "python",
   "nbconvert_exporter": "python",
   "pygments_lexer": "ipython3",
   "version": "3.8.3"
  }
 },
 "nbformat": 4,
 "nbformat_minor": 5
}
