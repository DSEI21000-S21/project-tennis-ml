{
 "cells": [
  {
   "cell_type": "code",
   "execution_count": 1,
   "metadata": {},
   "outputs": [],
   "source": [
    "import pandas as pd\n",
    "import numpy as np\n",
    "import seaborn as sns\n",
    "from matplotlib import pyplot as plt\n",
    "from sklearn.preprocessing import StandardScaler, MinMaxScaler, normalize\n",
    "from sklearn.model_selection import train_test_split\n",
    "from sklearn.pipeline import Pipeline, make_pipeline\n",
    "from sklearn.linear_model import LogisticRegression\n",
    "from sklearn.decomposition import PCA\n",
    "from sklearn.svm import SVC\n",
    "from sklearn.tree import DecisionTreeClassifier\n",
    "from sklearn.ensemble import RandomForestClassifier\n",
    "from sklearn.neighbors import KNeighborsClassifier\n",
    "from sklearn.dummy import DummyClassifier\n",
    "from sklearn.model_selection import GridSearchCV,cross_val_score, learning_curve, validation_curve"
   ]
  },
  {
   "cell_type": "code",
   "execution_count": 4,
   "metadata": {},
   "outputs": [
    {
     "data": {
      "text/html": [
       "<div>\n",
       "<style scoped>\n",
       "    .dataframe tbody tr th:only-of-type {\n",
       "        vertical-align: middle;\n",
       "    }\n",
       "\n",
       "    .dataframe tbody tr th {\n",
       "        vertical-align: top;\n",
       "    }\n",
       "\n",
       "    .dataframe thead th {\n",
       "        text-align: right;\n",
       "    }\n",
       "</style>\n",
       "<table border=\"1\" class=\"dataframe\">\n",
       "  <thead>\n",
       "    <tr style=\"text-align: right;\">\n",
       "      <th></th>\n",
       "      <th>tourney_id</th>\n",
       "      <th>tourney_name</th>\n",
       "      <th>surface</th>\n",
       "      <th>draw_size</th>\n",
       "      <th>tourney_level</th>\n",
       "      <th>tourney_date</th>\n",
       "      <th>match_num</th>\n",
       "      <th>player_id</th>\n",
       "      <th>player_seed</th>\n",
       "      <th>player_entry</th>\n",
       "      <th>...</th>\n",
       "      <th>service_points_won</th>\n",
       "      <th>first_serve_made</th>\n",
       "      <th>first_serve_won</th>\n",
       "      <th>second_serve_won</th>\n",
       "      <th>serve_game</th>\n",
       "      <th>break_point_saved</th>\n",
       "      <th>break_point_faced</th>\n",
       "      <th>player_rank</th>\n",
       "      <th>player_rank_points</th>\n",
       "      <th>target</th>\n",
       "    </tr>\n",
       "  </thead>\n",
       "  <tbody>\n",
       "    <tr>\n",
       "      <th>0</th>\n",
       "      <td>2000-301</td>\n",
       "      <td>Auckland</td>\n",
       "      <td>Hard</td>\n",
       "      <td>32</td>\n",
       "      <td>A</td>\n",
       "      <td>20000110</td>\n",
       "      <td>1</td>\n",
       "      <td>103163</td>\n",
       "      <td>1.0</td>\n",
       "      <td>NaN</td>\n",
       "      <td>...</td>\n",
       "      <td>96.0</td>\n",
       "      <td>49.0</td>\n",
       "      <td>39.0</td>\n",
       "      <td>28.0</td>\n",
       "      <td>17.0</td>\n",
       "      <td>3.0</td>\n",
       "      <td>5.0</td>\n",
       "      <td>11.0</td>\n",
       "      <td>1612.0</td>\n",
       "      <td>1</td>\n",
       "    </tr>\n",
       "    <tr>\n",
       "      <th>1</th>\n",
       "      <td>2000-301</td>\n",
       "      <td>Auckland</td>\n",
       "      <td>Hard</td>\n",
       "      <td>32</td>\n",
       "      <td>A</td>\n",
       "      <td>20000110</td>\n",
       "      <td>2</td>\n",
       "      <td>102607</td>\n",
       "      <td>NaN</td>\n",
       "      <td>Q</td>\n",
       "      <td>...</td>\n",
       "      <td>76.0</td>\n",
       "      <td>52.0</td>\n",
       "      <td>39.0</td>\n",
       "      <td>13.0</td>\n",
       "      <td>12.0</td>\n",
       "      <td>5.0</td>\n",
       "      <td>6.0</td>\n",
       "      <td>211.0</td>\n",
       "      <td>157.0</td>\n",
       "      <td>1</td>\n",
       "    </tr>\n",
       "    <tr>\n",
       "      <th>2</th>\n",
       "      <td>2000-301</td>\n",
       "      <td>Auckland</td>\n",
       "      <td>Hard</td>\n",
       "      <td>32</td>\n",
       "      <td>A</td>\n",
       "      <td>20000110</td>\n",
       "      <td>3</td>\n",
       "      <td>103252</td>\n",
       "      <td>NaN</td>\n",
       "      <td>NaN</td>\n",
       "      <td>...</td>\n",
       "      <td>55.0</td>\n",
       "      <td>35.0</td>\n",
       "      <td>25.0</td>\n",
       "      <td>12.0</td>\n",
       "      <td>8.0</td>\n",
       "      <td>1.0</td>\n",
       "      <td>1.0</td>\n",
       "      <td>48.0</td>\n",
       "      <td>726.0</td>\n",
       "      <td>1</td>\n",
       "    </tr>\n",
       "    <tr>\n",
       "      <th>3</th>\n",
       "      <td>2000-301</td>\n",
       "      <td>Auckland</td>\n",
       "      <td>Hard</td>\n",
       "      <td>32</td>\n",
       "      <td>A</td>\n",
       "      <td>20000110</td>\n",
       "      <td>4</td>\n",
       "      <td>103507</td>\n",
       "      <td>7.0</td>\n",
       "      <td>NaN</td>\n",
       "      <td>...</td>\n",
       "      <td>53.0</td>\n",
       "      <td>28.0</td>\n",
       "      <td>26.0</td>\n",
       "      <td>15.0</td>\n",
       "      <td>10.0</td>\n",
       "      <td>0.0</td>\n",
       "      <td>0.0</td>\n",
       "      <td>45.0</td>\n",
       "      <td>768.0</td>\n",
       "      <td>1</td>\n",
       "    </tr>\n",
       "    <tr>\n",
       "      <th>4</th>\n",
       "      <td>2000-301</td>\n",
       "      <td>Auckland</td>\n",
       "      <td>Hard</td>\n",
       "      <td>32</td>\n",
       "      <td>A</td>\n",
       "      <td>20000110</td>\n",
       "      <td>5</td>\n",
       "      <td>102103</td>\n",
       "      <td>NaN</td>\n",
       "      <td>Q</td>\n",
       "      <td>...</td>\n",
       "      <td>98.0</td>\n",
       "      <td>66.0</td>\n",
       "      <td>39.0</td>\n",
       "      <td>14.0</td>\n",
       "      <td>13.0</td>\n",
       "      <td>6.0</td>\n",
       "      <td>11.0</td>\n",
       "      <td>167.0</td>\n",
       "      <td>219.0</td>\n",
       "      <td>1</td>\n",
       "    </tr>\n",
       "  </tbody>\n",
       "</table>\n",
       "<p>5 rows × 31 columns</p>\n",
       "</div>"
      ],
      "text/plain": [
       "  tourney_id tourney_name surface  draw_size tourney_level  tourney_date  \\\n",
       "0   2000-301     Auckland    Hard         32             A      20000110   \n",
       "1   2000-301     Auckland    Hard         32             A      20000110   \n",
       "2   2000-301     Auckland    Hard         32             A      20000110   \n",
       "3   2000-301     Auckland    Hard         32             A      20000110   \n",
       "4   2000-301     Auckland    Hard         32             A      20000110   \n",
       "\n",
       "   match_num  player_id  player_seed player_entry  ... service_points_won  \\\n",
       "0          1     103163          1.0          NaN  ...               96.0   \n",
       "1          2     102607          NaN            Q  ...               76.0   \n",
       "2          3     103252          NaN          NaN  ...               55.0   \n",
       "3          4     103507          7.0          NaN  ...               53.0   \n",
       "4          5     102103          NaN            Q  ...               98.0   \n",
       "\n",
       "  first_serve_made  first_serve_won second_serve_won  serve_game  \\\n",
       "0             49.0             39.0             28.0        17.0   \n",
       "1             52.0             39.0             13.0        12.0   \n",
       "2             35.0             25.0             12.0         8.0   \n",
       "3             28.0             26.0             15.0        10.0   \n",
       "4             66.0             39.0             14.0        13.0   \n",
       "\n",
       "  break_point_saved  break_point_faced player_rank  player_rank_points  target  \n",
       "0               3.0                5.0        11.0              1612.0       1  \n",
       "1               5.0                6.0       211.0               157.0       1  \n",
       "2               1.0                1.0        48.0               726.0       1  \n",
       "3               0.0                0.0        45.0               768.0       1  \n",
       "4               6.0               11.0       167.0               219.0       1  \n",
       "\n",
       "[5 rows x 31 columns]"
      ]
     },
     "execution_count": 4,
     "metadata": {},
     "output_type": "execute_result"
    }
   ],
   "source": [
    "ATP_df = pd.read_csv(\"https://raw.githubusercontent.com/DSEI21000-S21/project-tennis-ml/main/atp_matches/atp_matches-2000-2021_expanded.csv\")\n",
    "ATP_df.head()"
   ]
  },
  {
   "cell_type": "code",
   "execution_count": 5,
   "metadata": {},
   "outputs": [
    {
     "name": "stdout",
     "output_type": "stream",
     "text": [
      "<class 'pandas.core.frame.DataFrame'>\n",
      "RangeIndex: 128070 entries, 0 to 128069\n",
      "Data columns (total 31 columns):\n",
      "tourney_id            128070 non-null object\n",
      "tourney_name          128070 non-null object\n",
      "surface               127674 non-null object\n",
      "draw_size             128070 non-null int64\n",
      "tourney_level         128070 non-null object\n",
      "tourney_date          128070 non-null int64\n",
      "match_num             128070 non-null int64\n",
      "player_id             128070 non-null int64\n",
      "player_seed           41078 non-null float64\n",
      "player_entry          20407 non-null object\n",
      "player_name           128070 non-null object\n",
      "player_hand           128002 non-null object\n",
      "player_height         111681 non-null float64\n",
      "player_ioc            128070 non-null object\n",
      "player_age            128042 non-null float64\n",
      "score                 128070 non-null object\n",
      "best_of               128070 non-null int64\n",
      "round                 128070 non-null object\n",
      "minutes               113442 non-null float64\n",
      "ace                   116074 non-null float64\n",
      "double_fault          116074 non-null float64\n",
      "service_points_won    116074 non-null float64\n",
      "first_serve_made      116074 non-null float64\n",
      "first_serve_won       116074 non-null float64\n",
      "second_serve_won      116074 non-null float64\n",
      "serve_game            116074 non-null float64\n",
      "break_point_saved     116074 non-null float64\n",
      "break_point_faced     116074 non-null float64\n",
      "player_rank           126215 non-null float64\n",
      "player_rank_points    126215 non-null float64\n",
      "target                128070 non-null int64\n",
      "dtypes: float64(15), int64(6), object(10)\n",
      "memory usage: 30.3+ MB\n"
     ]
    }
   ],
   "source": [
    "ATP_df.info()"
   ]
  },
  {
   "cell_type": "code",
   "execution_count": 6,
   "metadata": {},
   "outputs": [
    {
     "name": "stdout",
     "output_type": "stream",
     "text": [
      "<class 'pandas.core.frame.DataFrame'>\n",
      "RangeIndex: 128070 entries, 0 to 128069\n",
      "Data columns (total 27 columns):\n",
      "tourney_name          128070 non-null object\n",
      "surface               127674 non-null object\n",
      "draw_size             128070 non-null int64\n",
      "tourney_level         128070 non-null object\n",
      "tourney_date          128070 non-null int64\n",
      "match_num             128070 non-null int64\n",
      "player_id             128070 non-null int64\n",
      "player_seed           41078 non-null float64\n",
      "player_entry          20407 non-null object\n",
      "player_hand           128002 non-null object\n",
      "player_height         111681 non-null float64\n",
      "player_age            128042 non-null float64\n",
      "best_of               128070 non-null int64\n",
      "round                 128070 non-null object\n",
      "minutes               113442 non-null float64\n",
      "ace                   116074 non-null float64\n",
      "double_fault          116074 non-null float64\n",
      "service_points_won    116074 non-null float64\n",
      "first_serve_made      116074 non-null float64\n",
      "first_serve_won       116074 non-null float64\n",
      "second_serve_won      116074 non-null float64\n",
      "serve_game            116074 non-null float64\n",
      "break_point_saved     116074 non-null float64\n",
      "break_point_faced     116074 non-null float64\n",
      "player_rank           126215 non-null float64\n",
      "player_rank_points    126215 non-null float64\n",
      "target                128070 non-null int64\n",
      "dtypes: float64(15), int64(6), object(6)\n",
      "memory usage: 26.4+ MB\n"
     ]
    }
   ],
   "source": [
    "ATP_df_clean = ATP_df.drop(['tourney_id','player_name', 'player_ioc', 'score'], axis=1)\n",
    "ATP_df_clean.info()"
   ]
  },
  {
   "cell_type": "code",
   "execution_count": 8,
   "metadata": {},
   "outputs": [
    {
     "data": {
      "text/plain": [
       "tourney_name           0.000000\n",
       "surface                0.309206\n",
       "draw_size              0.000000\n",
       "tourney_level          0.000000\n",
       "tourney_date           0.000000\n",
       "match_num              0.000000\n",
       "player_id              0.000000\n",
       "player_seed           67.925353\n",
       "player_entry          84.065745\n",
       "player_hand            0.053096\n",
       "player_height         12.796908\n",
       "player_age             0.021863\n",
       "best_of                0.000000\n",
       "round                  0.000000\n",
       "minutes               11.421879\n",
       "ace                    9.366753\n",
       "double_fault           9.366753\n",
       "service_points_won     9.366753\n",
       "first_serve_made       9.366753\n",
       "first_serve_won        9.366753\n",
       "second_serve_won       9.366753\n",
       "serve_game             9.366753\n",
       "break_point_saved      9.366753\n",
       "break_point_faced      9.366753\n",
       "player_rank            1.448427\n",
       "player_rank_points     1.448427\n",
       "target                 0.000000\n",
       "dtype: float64"
      ]
     },
     "execution_count": 8,
     "metadata": {},
     "output_type": "execute_result"
    }
   ],
   "source": [
    "#Percentage of missing values\n",
    "(ATP_df_clean.isna().sum() / len(ATP_df_clean))*100"
   ]
  },
  {
   "cell_type": "code",
   "execution_count": 10,
   "metadata": {},
   "outputs": [
    {
     "name": "stdout",
     "output_type": "stream",
     "text": [
      "<class 'pandas.core.frame.DataFrame'>\n",
      "RangeIndex: 128070 entries, 0 to 128069\n",
      "Data columns (total 10 columns):\n",
      "tourney_name     128070 non-null object\n",
      "draw_size        128070 non-null int64\n",
      "tourney_level    128070 non-null object\n",
      "tourney_date     128070 non-null int64\n",
      "match_num        128070 non-null int64\n",
      "player_id        128070 non-null int64\n",
      "best_of          128070 non-null int64\n",
      "best_of          128070 non-null int64\n",
      "round            128070 non-null object\n",
      "target           128070 non-null int64\n",
      "dtypes: int64(7), object(3)\n",
      "memory usage: 9.8+ MB\n"
     ]
    }
   ],
   "source": [
    "ATP_df_clean_sample = ATP_df_clean.filter(['tourney_name','draw_size','tourney_level','tourney_date','match_num','player_id', 'best_of','best_of', 'round', 'target'], axis=1)\n",
    "ATP_df_clean_sample.info()\n"
   ]
  },
  {
   "cell_type": "code",
   "execution_count": 11,
   "metadata": {},
   "outputs": [],
   "source": [
    "# Random Seed\n",
    "SEED = 42\n",
    "np.random.seed = SEED"
   ]
  },
  {
   "cell_type": "markdown",
   "metadata": {},
   "source": [
    "**check if the data is balance**    \n",
    "target is our target variable, we want to make sure the data is balanced."
   ]
  },
  {
   "cell_type": "code",
   "execution_count": 12,
   "metadata": {},
   "outputs": [
    {
     "data": {
      "text/plain": [
       "1    64035\n",
       "0    64035\n",
       "Name: target, dtype: int64"
      ]
     },
     "execution_count": 12,
     "metadata": {},
     "output_type": "execute_result"
    }
   ],
   "source": [
    "#check if the data is balance\n",
    "ATP_df_clean_sample['target'].value_counts()"
   ]
  },
  {
   "cell_type": "code",
   "execution_count": 14,
   "metadata": {},
   "outputs": [
    {
     "data": {
      "image/png": "[encoded data removed]",
      "text/plain": [
       "<Figure size 432x288 with 1 Axes>"
      ]
     },
     "metadata": {
      "needs_background": "light"
     },
     "output_type": "display_data"
    }
   ],
   "source": [
    "ax = sns.countplot(ATP_df_clean_sample['target'], hue=ATP_df_clean_sample['target'], palette=['blue', 'red'])\n",
    "ax.set(xlabel='Wins', ylabel='Count')\n",
    "ax.legend(title='Winning player', loc='upper center', labels=['Winner', 'Loser'])\n",
    "ax.set_title('Count of winning games')\n",
    "plt.show()"
   ]
  },
  {
   "cell_type": "markdown",
   "metadata": {},
   "source": [
    "**Checking correlation between features**"
   ]
  },
  {
   "cell_type": "code",
   "execution_count": 19,
   "metadata": {},
   "outputs": [
    {
     "data": {
      "text/plain": [
       "target          1.000000e+00\n",
       "match_num       2.772944e-18\n",
       "best_of         4.761817e-19\n",
       "best_of         4.761817e-19\n",
       "draw_size      -1.176440e-18\n",
       "tourney_date   -1.543375e-17\n",
       "player_id      -1.088801e-02\n",
       "Name: target, dtype: float64"
      ]
     },
     "execution_count": 19,
     "metadata": {},
     "output_type": "execute_result"
    }
   ],
   "source": [
    "clean_corr = ATP_df_clean_sample.corr()\n",
    "clean_corr['target'].sort_values(ascending=False)\n"
   ]
  },
  {
   "cell_type": "code",
   "execution_count": 20,
   "metadata": {},
   "outputs": [
    {
     "data": {
      "image/png": "[encoded data removed]",
      "text/plain": [
       "<Figure size 2160x1440 with 2 Axes>"
      ]
     },
     "metadata": {
      "needs_background": "light"
     },
     "output_type": "display_data"
    }
   ],
   "source": [
    "f, ax = plt.subplots(figsize= (30, 20))\n",
    "lower = clean_corr.where(np.tril(np.ones(clean_corr.shape)).astype(np.bool))\n",
    "hmap=sns.heatmap(lower,cmap=\"coolwarm\", annot=True)\n",
    "ax.set_title('Correlation heatmap')\n",
    "plt.savefig('clean-corr-half.png')"
   ]
  },
  {
   "cell_type": "code",
   "execution_count": null,
   "metadata": {},
   "outputs": [],
   "source": []
  }
 ],
 "metadata": {
  "kernelspec": {
   "display_name": "Python 3",
   "language": "python",
   "name": "python3"
  },
  "language_info": {
   "codemirror_mode": {
    "name": "ipython",
    "version": 3
   },
   "file_extension": ".py",
   "mimetype": "text/x-python",
   "name": "python",
   "nbconvert_exporter": "python",
   "pygments_lexer": "ipython3",
   "version": "3.7.3"
  }
 },
 "nbformat": 4,
 "nbformat_minor": 2
}
