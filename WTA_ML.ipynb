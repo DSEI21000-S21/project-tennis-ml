{
  "nbformat": 4,
  "nbformat_minor": 0,
  "metadata": {
    "kernelspec": {
      "display_name": "Python 3",
      "language": "python",
      "name": "python3"
    },
    "language_info": {
      "codemirror_mode": {
        "name": "ipython",
        "version": 3
      },
      "file_extension": ".py",
      "mimetype": "text/x-python",
      "name": "python",
      "nbconvert_exporter": "python",
      "pygments_lexer": "ipython3",
      "version": "3.7.3"
    },
    "colab": {
      "name": "WTA_ML.ipynb",
      "provenance": [],
      "collapsed_sections": []
    }
  },
  "cells": [
    {
      "cell_type": "code",
      "metadata": {
        "id": "hRODyv9Z5PMV"
      },
      "source": [
        "import pandas as pd\n",
        "import numpy as np\n",
        "import seaborn as sns\n",
        "from matplotlib import pyplot as plt\n",
        "from sklearn.preprocessing import StandardScaler, MinMaxScaler, normalize\n",
        "from sklearn.model_selection import train_test_split\n",
        "from sklearn.pipeline import Pipeline, make_pipeline\n",
        "from sklearn.linear_model import LogisticRegression\n",
        "from sklearn.ensemble import RandomForestClassifier, VotingClassifier\n",
        "from sklearn.decomposition import PCA\n",
        "from sklearn.svm import SVC\n",
        "from sklearn.tree import DecisionTreeClassifier\n",
        "from sklearn.ensemble import RandomForestClassifier\n",
        "from sklearn.neighbors import KNeighborsClassifier\n",
        "from sklearn.dummy import DummyClassifier\n",
        "from sklearn.model_selection import GridSearchCV,cross_val_score, learning_curve, validation_curve\n",
        "import tensorflow as tf\n",
        "from tensorflow import keras\n",
        "from tensorflow.keras import layers\n",
        "from sklearn.metrics import plot_confusion_matrix, confusion_matrix, classification_report, roc_curve, auc\n",
        "%matplotlib inline"
      ],
      "execution_count": 1,
      "outputs": []
    },
    {
      "cell_type": "code",
      "metadata": {
        "id": "E7maoNP85PMd"
      },
      "source": [
        "path = \"https://raw.githubusercontent.com/DSEI21000-S21/project-tennis-ml/main/wta_matches/wta_matches-2000-2021_expanded.csv\"\n",
        "\n",
        "def readData(path):\n",
        "    df = pd.read_csv(path)\n",
        "    return df\n",
        "\n",
        "def dropGibberishRows(dataframe, column_name, filter_variable):\n",
        "    index_list = list(dataframe[dataframe[column_name] == filter_variable].index)\n",
        "    dataframe = dataframe.drop(index_list)\n",
        "    return dataframe\n",
        "\n",
        "#def encodeColumn(dataframe, column_list = []):\n",
        "    #df = pd.get_dummies(dataframe, columns= column_list)\n",
        "    #return df\n",
        "\n",
        "def convertDate(dataframe, date):\n",
        "    dataframe[date] = pd.to_datetime(dataframe[date], format = '%Y%m%d', errors='coerce')\n",
        "    return dataframe\n",
        "\n",
        "def addDateFeatures(dataframe, date):\n",
        "    dataframe['year'] = dataframe[date].dt.year\n",
        "    dataframe['month'] = dataframe[date].dt.month\n",
        "    dataframe['day'] = dataframe[date].dt.day\n",
        "    return dataframe\n",
        "\n",
        "def appendTarget(dataframe, winner, loser):\n",
        "    dataframe[winner] = 1\n",
        "    dataframe[loser] = 0\n",
        "    return dataframe\n",
        "\n",
        "def getMissingDataPercentage(dataframe):\n",
        "    percent_missing = dataframe.isnull().sum() * 100 / len(dataframe)\n",
        "    missing_value_df = pd.DataFrame({'column_name': dataframe.columns,\n",
        "                                 'percent_missing': percent_missing})\n",
        "    pd.set_option(\"max_rows\", None)\n",
        "    return missing_value_df\n",
        "\n",
        "def formatColumns(dataframe):\n",
        "    columns = list(dataframe.columns)\n",
        "    renamed_columns = [i.lower().strip().replace(' ', \"_\").replace(':','') for i in columns]\n",
        "    renamed_columns_dict = {columns[i]: renamed_columns[i] for i in range(len(columns))}\n",
        "    dataframe = dataframe.rename(columns = renamed_columns_dict)\n",
        "    return dataframe\n",
        "\n",
        "def convertColumnsToNumeric(dataframe, columns = []):\n",
        "    dataframe[columns] = dataframe[columns].apply(pd.to_numeric, errors ='coerce')\n",
        "    return dataframe \n",
        "\n",
        "def fillMissingDataMode(dataframe, cols):\n",
        "    dataframe[cols]= dataframe[cols].fillna(dataframe[cols].mode().iloc[0])\n",
        "    return dataframe\n",
        "\n",
        "def dropColumn(dataframe, column_list = []):\n",
        "    return dataframe.drop(column_list, axis =1)\n",
        "\n",
        "def fillMissingDataMean(dataframe, cols):\n",
        "    dataframe[cols]= dataframe[cols].fillna(dataframe[cols].mean().iloc[0])\n",
        "    return dataframe\n",
        "\n",
        "def fillMissingData999(dataframe, cols):\n",
        "    dataframe[cols]= dataframe[cols].fillna(999)\n",
        "    return dataframe"
      ],
      "execution_count": 2,
      "outputs": []
    },
    {
      "cell_type": "code",
      "metadata": {
        "id": "ZWV5eS4l5PMf"
      },
      "source": [
        "wta_data = readData(path)\n",
        "wta_data = dropColumn(wta_data, ['player_entry'])\n",
        "wta_data = fillMissingDataMode(wta_data, ['surface', 'player_hand'])\n",
        "wta_data = fillMissingDataMean(wta_data, ['player_height', 'player_age', 'minutes', 'ace', 'double_fault', 'service_points_won', 'first_serve_made', 'first_serve_won', \n",
        "'second_serve_won', 'serve_game', 'break_point_saved', 'break_point_faced', 'player_rank','player_rank_points'])\n",
        "wta_data = fillMissingData999(wta_data, ['player_seed'])\n",
        "wta_data = convertDate(wta_data, 'tourney_date')\n",
        "wta_data = addDateFeatures(wta_data, 'tourney_date')\n",
        "wta_data = dropColumn(wta_data, ['player_ioc', 'score', 'tourney_id', 'tourney_date', 'player_name'])\n",
        "#wta_data = encodeColumn(wta_data, ['tourney_name','surface', 'tourney_level', 'player_hand','round'])\n",
        "wta_data = formatColumns(wta_data)"
      ],
      "execution_count": 3,
      "outputs": []
    },
    {
      "cell_type": "code",
      "metadata": {
        "id": "iCcP_GZS5PMf",
        "colab": {
          "base_uri": "https://localhost:8080/",
          "height": 917
        },
        "outputId": "c26a893f-2251-43a9-b1ea-b279483cad96"
      },
      "source": [
        "getMissingDataPercentage(wta_data)"
      ],
      "execution_count": 4,
      "outputs": [
        {
          "output_type": "execute_result",
          "data": {
            "text/html": [
              "<div>\n",
              "<style scoped>\n",
              "    .dataframe tbody tr th:only-of-type {\n",
              "        vertical-align: middle;\n",
              "    }\n",
              "\n",
              "    .dataframe tbody tr th {\n",
              "        vertical-align: top;\n",
              "    }\n",
              "\n",
              "    .dataframe thead th {\n",
              "        text-align: right;\n",
              "    }\n",
              "</style>\n",
              "<table border=\"1\" class=\"dataframe\">\n",
              "  <thead>\n",
              "    <tr style=\"text-align: right;\">\n",
              "      <th></th>\n",
              "      <th>column_name</th>\n",
              "      <th>percent_missing</th>\n",
              "    </tr>\n",
              "  </thead>\n",
              "  <tbody>\n",
              "    <tr>\n",
              "      <th>tourney_name</th>\n",
              "      <td>tourney_name</td>\n",
              "      <td>0.0</td>\n",
              "    </tr>\n",
              "    <tr>\n",
              "      <th>surface</th>\n",
              "      <td>surface</td>\n",
              "      <td>0.0</td>\n",
              "    </tr>\n",
              "    <tr>\n",
              "      <th>draw_size</th>\n",
              "      <td>draw_size</td>\n",
              "      <td>0.0</td>\n",
              "    </tr>\n",
              "    <tr>\n",
              "      <th>tourney_level</th>\n",
              "      <td>tourney_level</td>\n",
              "      <td>0.0</td>\n",
              "    </tr>\n",
              "    <tr>\n",
              "      <th>match_num</th>\n",
              "      <td>match_num</td>\n",
              "      <td>0.0</td>\n",
              "    </tr>\n",
              "    <tr>\n",
              "      <th>player_id</th>\n",
              "      <td>player_id</td>\n",
              "      <td>0.0</td>\n",
              "    </tr>\n",
              "    <tr>\n",
              "      <th>player_seed</th>\n",
              "      <td>player_seed</td>\n",
              "      <td>0.0</td>\n",
              "    </tr>\n",
              "    <tr>\n",
              "      <th>player_hand</th>\n",
              "      <td>player_hand</td>\n",
              "      <td>0.0</td>\n",
              "    </tr>\n",
              "    <tr>\n",
              "      <th>player_height</th>\n",
              "      <td>player_height</td>\n",
              "      <td>0.0</td>\n",
              "    </tr>\n",
              "    <tr>\n",
              "      <th>player_age</th>\n",
              "      <td>player_age</td>\n",
              "      <td>0.0</td>\n",
              "    </tr>\n",
              "    <tr>\n",
              "      <th>best_of</th>\n",
              "      <td>best_of</td>\n",
              "      <td>0.0</td>\n",
              "    </tr>\n",
              "    <tr>\n",
              "      <th>round</th>\n",
              "      <td>round</td>\n",
              "      <td>0.0</td>\n",
              "    </tr>\n",
              "    <tr>\n",
              "      <th>minutes</th>\n",
              "      <td>minutes</td>\n",
              "      <td>0.0</td>\n",
              "    </tr>\n",
              "    <tr>\n",
              "      <th>ace</th>\n",
              "      <td>ace</td>\n",
              "      <td>0.0</td>\n",
              "    </tr>\n",
              "    <tr>\n",
              "      <th>double_fault</th>\n",
              "      <td>double_fault</td>\n",
              "      <td>0.0</td>\n",
              "    </tr>\n",
              "    <tr>\n",
              "      <th>service_points_won</th>\n",
              "      <td>service_points_won</td>\n",
              "      <td>0.0</td>\n",
              "    </tr>\n",
              "    <tr>\n",
              "      <th>first_serve_made</th>\n",
              "      <td>first_serve_made</td>\n",
              "      <td>0.0</td>\n",
              "    </tr>\n",
              "    <tr>\n",
              "      <th>first_serve_won</th>\n",
              "      <td>first_serve_won</td>\n",
              "      <td>0.0</td>\n",
              "    </tr>\n",
              "    <tr>\n",
              "      <th>second_serve_won</th>\n",
              "      <td>second_serve_won</td>\n",
              "      <td>0.0</td>\n",
              "    </tr>\n",
              "    <tr>\n",
              "      <th>serve_game</th>\n",
              "      <td>serve_game</td>\n",
              "      <td>0.0</td>\n",
              "    </tr>\n",
              "    <tr>\n",
              "      <th>break_point_saved</th>\n",
              "      <td>break_point_saved</td>\n",
              "      <td>0.0</td>\n",
              "    </tr>\n",
              "    <tr>\n",
              "      <th>break_point_faced</th>\n",
              "      <td>break_point_faced</td>\n",
              "      <td>0.0</td>\n",
              "    </tr>\n",
              "    <tr>\n",
              "      <th>player_rank</th>\n",
              "      <td>player_rank</td>\n",
              "      <td>0.0</td>\n",
              "    </tr>\n",
              "    <tr>\n",
              "      <th>player_rank_points</th>\n",
              "      <td>player_rank_points</td>\n",
              "      <td>0.0</td>\n",
              "    </tr>\n",
              "    <tr>\n",
              "      <th>target</th>\n",
              "      <td>target</td>\n",
              "      <td>0.0</td>\n",
              "    </tr>\n",
              "    <tr>\n",
              "      <th>year</th>\n",
              "      <td>year</td>\n",
              "      <td>0.0</td>\n",
              "    </tr>\n",
              "    <tr>\n",
              "      <th>month</th>\n",
              "      <td>month</td>\n",
              "      <td>0.0</td>\n",
              "    </tr>\n",
              "    <tr>\n",
              "      <th>day</th>\n",
              "      <td>day</td>\n",
              "      <td>0.0</td>\n",
              "    </tr>\n",
              "  </tbody>\n",
              "</table>\n",
              "</div>"
            ],
            "text/plain": [
              "                           column_name  percent_missing\n",
              "tourney_name              tourney_name              0.0\n",
              "surface                        surface              0.0\n",
              "draw_size                    draw_size              0.0\n",
              "tourney_level            tourney_level              0.0\n",
              "match_num                    match_num              0.0\n",
              "player_id                    player_id              0.0\n",
              "player_seed                player_seed              0.0\n",
              "player_hand                player_hand              0.0\n",
              "player_height            player_height              0.0\n",
              "player_age                  player_age              0.0\n",
              "best_of                        best_of              0.0\n",
              "round                            round              0.0\n",
              "minutes                        minutes              0.0\n",
              "ace                                ace              0.0\n",
              "double_fault              double_fault              0.0\n",
              "service_points_won  service_points_won              0.0\n",
              "first_serve_made      first_serve_made              0.0\n",
              "first_serve_won        first_serve_won              0.0\n",
              "second_serve_won      second_serve_won              0.0\n",
              "serve_game                  serve_game              0.0\n",
              "break_point_saved    break_point_saved              0.0\n",
              "break_point_faced    break_point_faced              0.0\n",
              "player_rank                player_rank              0.0\n",
              "player_rank_points  player_rank_points              0.0\n",
              "target                          target              0.0\n",
              "year                              year              0.0\n",
              "month                            month              0.0\n",
              "day                                day              0.0"
            ]
          },
          "metadata": {
            "tags": []
          },
          "execution_count": 4
        }
      ]
    },
    {
      "cell_type": "code",
      "metadata": {
        "id": "vru54v2s5PMh",
        "colab": {
          "base_uri": "https://localhost:8080/"
        },
        "outputId": "7c3f9608-c39e-47d0-8dfb-34b8afbea286"
      },
      "source": [
        "wta_data.info(verbose =True)"
      ],
      "execution_count": 5,
      "outputs": [
        {
          "output_type": "stream",
          "text": [
            "<class 'pandas.core.frame.DataFrame'>\n",
            "RangeIndex: 119438 entries, 0 to 119437\n",
            "Data columns (total 28 columns):\n",
            " #   Column              Non-Null Count   Dtype  \n",
            "---  ------              --------------   -----  \n",
            " 0   tourney_name        119438 non-null  object \n",
            " 1   surface             119438 non-null  object \n",
            " 2   draw_size           119438 non-null  int64  \n",
            " 3   tourney_level       119438 non-null  object \n",
            " 4   match_num           119438 non-null  int64  \n",
            " 5   player_id           119438 non-null  int64  \n",
            " 6   player_seed         119438 non-null  float64\n",
            " 7   player_hand         119438 non-null  object \n",
            " 8   player_height       119438 non-null  float64\n",
            " 9   player_age          119438 non-null  float64\n",
            " 10  best_of             119438 non-null  int64  \n",
            " 11  round               119438 non-null  object \n",
            " 12  minutes             119438 non-null  float64\n",
            " 13  ace                 119438 non-null  float64\n",
            " 14  double_fault        119438 non-null  float64\n",
            " 15  service_points_won  119438 non-null  float64\n",
            " 16  first_serve_made    119438 non-null  float64\n",
            " 17  first_serve_won     119438 non-null  float64\n",
            " 18  second_serve_won    119438 non-null  float64\n",
            " 19  serve_game          119438 non-null  float64\n",
            " 20  break_point_saved   119438 non-null  float64\n",
            " 21  break_point_faced   119438 non-null  float64\n",
            " 22  player_rank         119438 non-null  float64\n",
            " 23  player_rank_points  119438 non-null  float64\n",
            " 24  target              119438 non-null  int64  \n",
            " 25  year                119438 non-null  int64  \n",
            " 26  month               119438 non-null  int64  \n",
            " 27  day                 119438 non-null  int64  \n",
            "dtypes: float64(15), int64(8), object(5)\n",
            "memory usage: 25.5+ MB\n"
          ],
          "name": "stdout"
        }
      ]
    },
    {
      "cell_type": "code",
      "metadata": {
        "id": "JKVfT2685PMh",
        "colab": {
          "base_uri": "https://localhost:8080/",
          "height": 317
        },
        "outputId": "06c7bf81-03f7-404f-b4f5-fa4e710c4ad7"
      },
      "source": [
        "wta_data.describe()"
      ],
      "execution_count": 6,
      "outputs": [
        {
          "output_type": "execute_result",
          "data": {
            "text/html": [
              "<div>\n",
              "<style scoped>\n",
              "    .dataframe tbody tr th:only-of-type {\n",
              "        vertical-align: middle;\n",
              "    }\n",
              "\n",
              "    .dataframe tbody tr th {\n",
              "        vertical-align: top;\n",
              "    }\n",
              "\n",
              "    .dataframe thead th {\n",
              "        text-align: right;\n",
              "    }\n",
              "</style>\n",
              "<table border=\"1\" class=\"dataframe\">\n",
              "  <thead>\n",
              "    <tr style=\"text-align: right;\">\n",
              "      <th></th>\n",
              "      <th>draw_size</th>\n",
              "      <th>match_num</th>\n",
              "      <th>player_id</th>\n",
              "      <th>player_seed</th>\n",
              "      <th>player_height</th>\n",
              "      <th>player_age</th>\n",
              "      <th>best_of</th>\n",
              "      <th>minutes</th>\n",
              "      <th>ace</th>\n",
              "      <th>double_fault</th>\n",
              "      <th>service_points_won</th>\n",
              "      <th>first_serve_made</th>\n",
              "      <th>first_serve_won</th>\n",
              "      <th>second_serve_won</th>\n",
              "      <th>serve_game</th>\n",
              "      <th>break_point_saved</th>\n",
              "      <th>break_point_faced</th>\n",
              "      <th>player_rank</th>\n",
              "      <th>player_rank_points</th>\n",
              "      <th>target</th>\n",
              "      <th>year</th>\n",
              "      <th>month</th>\n",
              "      <th>day</th>\n",
              "    </tr>\n",
              "  </thead>\n",
              "  <tbody>\n",
              "    <tr>\n",
              "      <th>count</th>\n",
              "      <td>119438.000000</td>\n",
              "      <td>119438.000000</td>\n",
              "      <td>119438.000000</td>\n",
              "      <td>119438.000000</td>\n",
              "      <td>119438.000000</td>\n",
              "      <td>119438.000000</td>\n",
              "      <td>119438.000000</td>\n",
              "      <td>119438.000000</td>\n",
              "      <td>119438.000000</td>\n",
              "      <td>119438.000000</td>\n",
              "      <td>119438.000000</td>\n",
              "      <td>119438.000000</td>\n",
              "      <td>119438.000000</td>\n",
              "      <td>119438.000000</td>\n",
              "      <td>119438.000000</td>\n",
              "      <td>119438.000000</td>\n",
              "      <td>119438.000000</td>\n",
              "      <td>119438.000000</td>\n",
              "      <td>119438.000000</td>\n",
              "      <td>119438.000000</td>\n",
              "      <td>119438.000000</td>\n",
              "      <td>119438.000000</td>\n",
              "      <td>119438.000000</td>\n",
              "    </tr>\n",
              "    <tr>\n",
              "      <th>mean</th>\n",
              "      <td>54.576600</td>\n",
              "      <td>82.883705</td>\n",
              "      <td>202298.029580</td>\n",
              "      <td>678.641488</td>\n",
              "      <td>173.385424</td>\n",
              "      <td>24.219136</td>\n",
              "      <td>3.002579</td>\n",
              "      <td>155.925050</td>\n",
              "      <td>72.479200</td>\n",
              "      <td>73.225291</td>\n",
              "      <td>112.218177</td>\n",
              "      <td>96.664950</td>\n",
              "      <td>87.095960</td>\n",
              "      <td>78.019033</td>\n",
              "      <td>131.635498</td>\n",
              "      <td>73.627145</td>\n",
              "      <td>75.859651</td>\n",
              "      <td>95.349947</td>\n",
              "      <td>1242.600897</td>\n",
              "      <td>0.500000</td>\n",
              "      <td>2009.847620</td>\n",
              "      <td>5.331821</td>\n",
              "      <td>16.041829</td>\n",
              "    </tr>\n",
              "    <tr>\n",
              "      <th>std</th>\n",
              "      <td>41.109025</td>\n",
              "      <td>171.380133</td>\n",
              "      <td>3351.576382</td>\n",
              "      <td>463.529275</td>\n",
              "      <td>5.000963</td>\n",
              "      <td>4.647098</td>\n",
              "      <td>0.071770</td>\n",
              "      <td>37.753336</td>\n",
              "      <td>84.053933</td>\n",
              "      <td>83.532933</td>\n",
              "      <td>53.767167</td>\n",
              "      <td>64.975180</td>\n",
              "      <td>72.265931</td>\n",
              "      <td>79.508748</td>\n",
              "      <td>71.195287</td>\n",
              "      <td>83.105517</td>\n",
              "      <td>81.282219</td>\n",
              "      <td>127.100176</td>\n",
              "      <td>1439.037247</td>\n",
              "      <td>0.500002</td>\n",
              "      <td>6.066933</td>\n",
              "      <td>2.911543</td>\n",
              "      <td>8.638772</td>\n",
              "    </tr>\n",
              "    <tr>\n",
              "      <th>min</th>\n",
              "      <td>2.000000</td>\n",
              "      <td>1.000000</td>\n",
              "      <td>200001.000000</td>\n",
              "      <td>1.000000</td>\n",
              "      <td>153.000000</td>\n",
              "      <td>14.039699</td>\n",
              "      <td>3.000000</td>\n",
              "      <td>0.000000</td>\n",
              "      <td>0.000000</td>\n",
              "      <td>0.000000</td>\n",
              "      <td>0.000000</td>\n",
              "      <td>0.000000</td>\n",
              "      <td>0.000000</td>\n",
              "      <td>0.000000</td>\n",
              "      <td>0.000000</td>\n",
              "      <td>0.000000</td>\n",
              "      <td>0.000000</td>\n",
              "      <td>1.000000</td>\n",
              "      <td>1.000000</td>\n",
              "      <td>0.000000</td>\n",
              "      <td>2000.000000</td>\n",
              "      <td>1.000000</td>\n",
              "      <td>1.000000</td>\n",
              "    </tr>\n",
              "    <tr>\n",
              "      <th>25%</th>\n",
              "      <td>30.000000</td>\n",
              "      <td>9.000000</td>\n",
              "      <td>201212.000000</td>\n",
              "      <td>11.000000</td>\n",
              "      <td>173.000000</td>\n",
              "      <td>21.122519</td>\n",
              "      <td>3.000000</td>\n",
              "      <td>173.385424</td>\n",
              "      <td>1.000000</td>\n",
              "      <td>3.000000</td>\n",
              "      <td>62.000000</td>\n",
              "      <td>38.000000</td>\n",
              "      <td>24.000000</td>\n",
              "      <td>10.000000</td>\n",
              "      <td>17.000000</td>\n",
              "      <td>3.000000</td>\n",
              "      <td>7.000000</td>\n",
              "      <td>26.000000</td>\n",
              "      <td>391.000000</td>\n",
              "      <td>0.000000</td>\n",
              "      <td>2005.000000</td>\n",
              "      <td>3.000000</td>\n",
              "      <td>8.000000</td>\n",
              "    </tr>\n",
              "    <tr>\n",
              "      <th>50%</th>\n",
              "      <td>32.000000</td>\n",
              "      <td>25.000000</td>\n",
              "      <td>201450.000000</td>\n",
              "      <td>999.000000</td>\n",
              "      <td>173.385424</td>\n",
              "      <td>23.956194</td>\n",
              "      <td>3.000000</td>\n",
              "      <td>173.385424</td>\n",
              "      <td>5.000000</td>\n",
              "      <td>6.000000</td>\n",
              "      <td>95.000000</td>\n",
              "      <td>60.000000</td>\n",
              "      <td>38.000000</td>\n",
              "      <td>17.000000</td>\n",
              "      <td>173.385424</td>\n",
              "      <td>8.000000</td>\n",
              "      <td>13.000000</td>\n",
              "      <td>60.000000</td>\n",
              "      <td>777.000000</td>\n",
              "      <td>0.500000</td>\n",
              "      <td>2010.000000</td>\n",
              "      <td>5.000000</td>\n",
              "      <td>16.000000</td>\n",
              "    </tr>\n",
              "    <tr>\n",
              "      <th>75%</th>\n",
              "      <td>64.000000</td>\n",
              "      <td>92.000000</td>\n",
              "      <td>201619.000000</td>\n",
              "      <td>999.000000</td>\n",
              "      <td>174.000000</td>\n",
              "      <td>26.964408</td>\n",
              "      <td>3.000000</td>\n",
              "      <td>173.385424</td>\n",
              "      <td>173.385424</td>\n",
              "      <td>173.385424</td>\n",
              "      <td>173.385424</td>\n",
              "      <td>173.385424</td>\n",
              "      <td>173.385424</td>\n",
              "      <td>173.385424</td>\n",
              "      <td>173.385424</td>\n",
              "      <td>173.385424</td>\n",
              "      <td>173.385424</td>\n",
              "      <td>113.000000</td>\n",
              "      <td>1470.000000</td>\n",
              "      <td>1.000000</td>\n",
              "      <td>2015.000000</td>\n",
              "      <td>8.000000</td>\n",
              "      <td>23.000000</td>\n",
              "    </tr>\n",
              "    <tr>\n",
              "      <th>max</th>\n",
              "      <td>128.000000</td>\n",
              "      <td>2701.000000</td>\n",
              "      <td>223140.000000</td>\n",
              "      <td>999.000000</td>\n",
              "      <td>189.000000</td>\n",
              "      <td>173.385424</td>\n",
              "      <td>5.000000</td>\n",
              "      <td>2475.000000</td>\n",
              "      <td>173.385424</td>\n",
              "      <td>173.385424</td>\n",
              "      <td>219.000000</td>\n",
              "      <td>173.385424</td>\n",
              "      <td>173.385424</td>\n",
              "      <td>173.385424</td>\n",
              "      <td>173.385424</td>\n",
              "      <td>173.385424</td>\n",
              "      <td>173.385424</td>\n",
              "      <td>1482.000000</td>\n",
              "      <td>13615.000000</td>\n",
              "      <td>1.000000</td>\n",
              "      <td>2021.000000</td>\n",
              "      <td>12.000000</td>\n",
              "      <td>31.000000</td>\n",
              "    </tr>\n",
              "  </tbody>\n",
              "</table>\n",
              "</div>"
            ],
            "text/plain": [
              "           draw_size      match_num  ...          month            day\n",
              "count  119438.000000  119438.000000  ...  119438.000000  119438.000000\n",
              "mean       54.576600      82.883705  ...       5.331821      16.041829\n",
              "std        41.109025     171.380133  ...       2.911543       8.638772\n",
              "min         2.000000       1.000000  ...       1.000000       1.000000\n",
              "25%        30.000000       9.000000  ...       3.000000       8.000000\n",
              "50%        32.000000      25.000000  ...       5.000000      16.000000\n",
              "75%        64.000000      92.000000  ...       8.000000      23.000000\n",
              "max       128.000000    2701.000000  ...      12.000000      31.000000\n",
              "\n",
              "[8 rows x 23 columns]"
            ]
          },
          "metadata": {
            "tags": []
          },
          "execution_count": 6
        }
      ]
    },
    {
      "cell_type": "code",
      "metadata": {
        "colab": {
          "base_uri": "https://localhost:8080/",
          "height": 17
        },
        "id": "j_2ybcqy7k4N",
        "outputId": "76186edc-3d13-4ebb-8936-5493e7667b49"
      },
      "source": [
        "from google.colab import files\n",
        "wta_data.to_csv('wta_cleaned_data.csv') \n",
        "files.download('wta_cleaned_data.csv')"
      ],
      "execution_count": 12,
      "outputs": [
        {
          "output_type": "display_data",
          "data": {
            "application/javascript": [
              "\n",
              "    async function download(id, filename, size) {\n",
              "      if (!google.colab.kernel.accessAllowed) {\n",
              "        return;\n",
              "      }\n",
              "      const div = document.createElement('div');\n",
              "      const label = document.createElement('label');\n",
              "      label.textContent = `Downloading \"${filename}\": `;\n",
              "      div.appendChild(label);\n",
              "      const progress = document.createElement('progress');\n",
              "      progress.max = size;\n",
              "      div.appendChild(progress);\n",
              "      document.body.appendChild(div);\n",
              "\n",
              "      const buffers = [];\n",
              "      let downloaded = 0;\n",
              "\n",
              "      const channel = await google.colab.kernel.comms.open(id);\n",
              "      // Send a message to notify the kernel that we're ready.\n",
              "      channel.send({})\n",
              "\n",
              "      for await (const message of channel.messages) {\n",
              "        // Send a message to notify the kernel that we're ready.\n",
              "        channel.send({})\n",
              "        if (message.buffers) {\n",
              "          for (const buffer of message.buffers) {\n",
              "            buffers.push(buffer);\n",
              "            downloaded += buffer.byteLength;\n",
              "            progress.value = downloaded;\n",
              "          }\n",
              "        }\n",
              "      }\n",
              "      const blob = new Blob(buffers, {type: 'application/binary'});\n",
              "      const a = document.createElement('a');\n",
              "      a.href = window.URL.createObjectURL(blob);\n",
              "      a.download = filename;\n",
              "      div.appendChild(a);\n",
              "      a.click();\n",
              "      div.remove();\n",
              "    }\n",
              "  "
            ],
            "text/plain": [
              "<IPython.core.display.Javascript object>"
            ]
          },
          "metadata": {
            "tags": []
          }
        },
        {
          "output_type": "display_data",
          "data": {
            "application/javascript": [
              "download(\"download_1a406ece-41d7-490c-a2d5-bf89713e1600\", \"wta_cleaned_data.csv\", 25655143)"
            ],
            "text/plain": [
              "<IPython.core.display.Javascript object>"
            ]
          },
          "metadata": {
            "tags": []
          }
        }
      ]
    },
    {
      "cell_type": "code",
      "metadata": {
        "id": "b40zQrKi5PMi",
        "colab": {
          "base_uri": "https://localhost:8080/",
          "height": 411
        },
        "outputId": "52e041d8-321e-4caf-c4ac-28be0bb82a12"
      },
      "source": [
        "wta_data = pd.read_csv(\"wta_cleaned_data.csv\")\n",
        "wta_data.head()"
      ],
      "execution_count": 14,
      "outputs": [
        {
          "output_type": "execute_result",
          "data": {
            "text/html": [
              "<div>\n",
              "<style scoped>\n",
              "    .dataframe tbody tr th:only-of-type {\n",
              "        vertical-align: middle;\n",
              "    }\n",
              "\n",
              "    .dataframe tbody tr th {\n",
              "        vertical-align: top;\n",
              "    }\n",
              "\n",
              "    .dataframe thead th {\n",
              "        text-align: right;\n",
              "    }\n",
              "</style>\n",
              "<table border=\"1\" class=\"dataframe\">\n",
              "  <thead>\n",
              "    <tr style=\"text-align: right;\">\n",
              "      <th></th>\n",
              "      <th>Unnamed: 0</th>\n",
              "      <th>tourney_name</th>\n",
              "      <th>surface</th>\n",
              "      <th>draw_size</th>\n",
              "      <th>tourney_level</th>\n",
              "      <th>match_num</th>\n",
              "      <th>player_id</th>\n",
              "      <th>player_seed</th>\n",
              "      <th>player_hand</th>\n",
              "      <th>player_height</th>\n",
              "      <th>player_age</th>\n",
              "      <th>best_of</th>\n",
              "      <th>round</th>\n",
              "      <th>minutes</th>\n",
              "      <th>ace</th>\n",
              "      <th>double_fault</th>\n",
              "      <th>service_points_won</th>\n",
              "      <th>first_serve_made</th>\n",
              "      <th>first_serve_won</th>\n",
              "      <th>second_serve_won</th>\n",
              "      <th>serve_game</th>\n",
              "      <th>break_point_saved</th>\n",
              "      <th>break_point_faced</th>\n",
              "      <th>player_rank</th>\n",
              "      <th>player_rank_points</th>\n",
              "      <th>target</th>\n",
              "      <th>year</th>\n",
              "      <th>month</th>\n",
              "      <th>day</th>\n",
              "    </tr>\n",
              "  </thead>\n",
              "  <tbody>\n",
              "    <tr>\n",
              "      <th>0</th>\n",
              "      <td>0</td>\n",
              "      <td>Fed Cup G1 PO: JPN vs CHN</td>\n",
              "      <td>Hard</td>\n",
              "      <td>4</td>\n",
              "      <td>D</td>\n",
              "      <td>1</td>\n",
              "      <td>201419</td>\n",
              "      <td>999.0</td>\n",
              "      <td>R</td>\n",
              "      <td>172.000000</td>\n",
              "      <td>18.173854</td>\n",
              "      <td>3</td>\n",
              "      <td>RR</td>\n",
              "      <td>173.385424</td>\n",
              "      <td>173.385424</td>\n",
              "      <td>173.385424</td>\n",
              "      <td>173.385424</td>\n",
              "      <td>173.385424</td>\n",
              "      <td>173.385424</td>\n",
              "      <td>173.385424</td>\n",
              "      <td>173.385424</td>\n",
              "      <td>173.385424</td>\n",
              "      <td>173.385424</td>\n",
              "      <td>190.0</td>\n",
              "      <td>121.0</td>\n",
              "      <td>1</td>\n",
              "      <td>2000</td>\n",
              "      <td>4</td>\n",
              "      <td>30</td>\n",
              "    </tr>\n",
              "    <tr>\n",
              "      <th>1</th>\n",
              "      <td>1</td>\n",
              "      <td>Fed Cup G1 PO: JPN vs CHN</td>\n",
              "      <td>Hard</td>\n",
              "      <td>4</td>\n",
              "      <td>D</td>\n",
              "      <td>2</td>\n",
              "      <td>200085</td>\n",
              "      <td>999.0</td>\n",
              "      <td>R</td>\n",
              "      <td>163.000000</td>\n",
              "      <td>24.821355</td>\n",
              "      <td>3</td>\n",
              "      <td>RR</td>\n",
              "      <td>173.385424</td>\n",
              "      <td>173.385424</td>\n",
              "      <td>173.385424</td>\n",
              "      <td>173.385424</td>\n",
              "      <td>173.385424</td>\n",
              "      <td>173.385424</td>\n",
              "      <td>173.385424</td>\n",
              "      <td>173.385424</td>\n",
              "      <td>173.385424</td>\n",
              "      <td>173.385424</td>\n",
              "      <td>22.0</td>\n",
              "      <td>1230.0</td>\n",
              "      <td>1</td>\n",
              "      <td>2000</td>\n",
              "      <td>4</td>\n",
              "      <td>30</td>\n",
              "    </tr>\n",
              "    <tr>\n",
              "      <th>2</th>\n",
              "      <td>2</td>\n",
              "      <td>Fed Cup WG SF: USA vs BEL</td>\n",
              "      <td>Carpet</td>\n",
              "      <td>4</td>\n",
              "      <td>D</td>\n",
              "      <td>1</td>\n",
              "      <td>200652</td>\n",
              "      <td>999.0</td>\n",
              "      <td>L</td>\n",
              "      <td>173.385424</td>\n",
              "      <td>26.973306</td>\n",
              "      <td>3</td>\n",
              "      <td>RR</td>\n",
              "      <td>173.385424</td>\n",
              "      <td>173.385424</td>\n",
              "      <td>173.385424</td>\n",
              "      <td>173.385424</td>\n",
              "      <td>173.385424</td>\n",
              "      <td>173.385424</td>\n",
              "      <td>173.385424</td>\n",
              "      <td>173.385424</td>\n",
              "      <td>173.385424</td>\n",
              "      <td>173.385424</td>\n",
              "      <td>4.0</td>\n",
              "      <td>3255.0</td>\n",
              "      <td>1</td>\n",
              "      <td>2000</td>\n",
              "      <td>11</td>\n",
              "      <td>22</td>\n",
              "    </tr>\n",
              "    <tr>\n",
              "      <th>3</th>\n",
              "      <td>3</td>\n",
              "      <td>Fed Cup WG SF: USA vs BEL</td>\n",
              "      <td>Carpet</td>\n",
              "      <td>4</td>\n",
              "      <td>D</td>\n",
              "      <td>2</td>\n",
              "      <td>200128</td>\n",
              "      <td>999.0</td>\n",
              "      <td>R</td>\n",
              "      <td>189.000000</td>\n",
              "      <td>24.457221</td>\n",
              "      <td>3</td>\n",
              "      <td>RR</td>\n",
              "      <td>173.385424</td>\n",
              "      <td>173.385424</td>\n",
              "      <td>173.385424</td>\n",
              "      <td>173.385424</td>\n",
              "      <td>173.385424</td>\n",
              "      <td>173.385424</td>\n",
              "      <td>173.385424</td>\n",
              "      <td>173.385424</td>\n",
              "      <td>173.385424</td>\n",
              "      <td>173.385424</td>\n",
              "      <td>2.0</td>\n",
              "      <td>5022.0</td>\n",
              "      <td>1</td>\n",
              "      <td>2000</td>\n",
              "      <td>11</td>\n",
              "      <td>22</td>\n",
              "    </tr>\n",
              "    <tr>\n",
              "      <th>4</th>\n",
              "      <td>4</td>\n",
              "      <td>Fed Cup WG SF: CZE vs ESP</td>\n",
              "      <td>Carpet</td>\n",
              "      <td>4</td>\n",
              "      <td>D</td>\n",
              "      <td>1</td>\n",
              "      <td>200017</td>\n",
              "      <td>999.0</td>\n",
              "      <td>R</td>\n",
              "      <td>173.385424</td>\n",
              "      <td>28.928131</td>\n",
              "      <td>3</td>\n",
              "      <td>RR</td>\n",
              "      <td>173.385424</td>\n",
              "      <td>173.385424</td>\n",
              "      <td>173.385424</td>\n",
              "      <td>173.385424</td>\n",
              "      <td>173.385424</td>\n",
              "      <td>173.385424</td>\n",
              "      <td>173.385424</td>\n",
              "      <td>173.385424</td>\n",
              "      <td>173.385424</td>\n",
              "      <td>173.385424</td>\n",
              "      <td>9.0</td>\n",
              "      <td>2132.0</td>\n",
              "      <td>1</td>\n",
              "      <td>2000</td>\n",
              "      <td>11</td>\n",
              "      <td>21</td>\n",
              "    </tr>\n",
              "  </tbody>\n",
              "</table>\n",
              "</div>"
            ],
            "text/plain": [
              "   Unnamed: 0               tourney_name surface  ...  year month  day\n",
              "0           0  Fed Cup G1 PO: JPN vs CHN    Hard  ...  2000     4   30\n",
              "1           1  Fed Cup G1 PO: JPN vs CHN    Hard  ...  2000     4   30\n",
              "2           2  Fed Cup WG SF: USA vs BEL  Carpet  ...  2000    11   22\n",
              "3           3  Fed Cup WG SF: USA vs BEL  Carpet  ...  2000    11   22\n",
              "4           4  Fed Cup WG SF: CZE vs ESP  Carpet  ...  2000    11   21\n",
              "\n",
              "[5 rows x 29 columns]"
            ]
          },
          "metadata": {
            "tags": []
          },
          "execution_count": 14
        }
      ]
    },
    {
      "cell_type": "markdown",
      "metadata": {
        "id": "rLpDgoLN5PMi"
      },
      "source": [
        "**check for missing values**"
      ]
    },
    {
      "cell_type": "code",
      "metadata": {
        "id": "SCAnKtlD5PMj",
        "colab": {
          "base_uri": "https://localhost:8080/"
        },
        "outputId": "91816517-fe77-422b-f92d-20af0ed3ab8c"
      },
      "source": [
        "#Percentage of missing values\n",
        "(wta_data.isna().sum() / len(wta_data))*100"
      ],
      "execution_count": 15,
      "outputs": [
        {
          "output_type": "execute_result",
          "data": {
            "text/plain": [
              "Unnamed: 0            0.0\n",
              "tourney_name          0.0\n",
              "surface               0.0\n",
              "draw_size             0.0\n",
              "tourney_level         0.0\n",
              "match_num             0.0\n",
              "player_id             0.0\n",
              "player_seed           0.0\n",
              "player_hand           0.0\n",
              "player_height         0.0\n",
              "player_age            0.0\n",
              "best_of               0.0\n",
              "round                 0.0\n",
              "minutes               0.0\n",
              "ace                   0.0\n",
              "double_fault          0.0\n",
              "service_points_won    0.0\n",
              "first_serve_made      0.0\n",
              "first_serve_won       0.0\n",
              "second_serve_won      0.0\n",
              "serve_game            0.0\n",
              "break_point_saved     0.0\n",
              "break_point_faced     0.0\n",
              "player_rank           0.0\n",
              "player_rank_points    0.0\n",
              "target                0.0\n",
              "year                  0.0\n",
              "month                 0.0\n",
              "day                   0.0\n",
              "dtype: float64"
            ]
          },
          "metadata": {
            "tags": []
          },
          "execution_count": 15
        }
      ]
    },
    {
      "cell_type": "code",
      "metadata": {
        "id": "M7EerTmg5PMj"
      },
      "source": [
        "# Random Seed\n",
        "SEED = 42\n",
        "np.random.seed = SEED"
      ],
      "execution_count": 16,
      "outputs": []
    },
    {
      "cell_type": "markdown",
      "metadata": {
        "id": "YzhIVtWv5PMj"
      },
      "source": [
        "**check if the data is balance**     \n",
        "target is our target variable, we want to make sure the data is balanced"
      ]
    },
    {
      "cell_type": "code",
      "metadata": {
        "id": "T86ofUBi5PMk",
        "colab": {
          "base_uri": "https://localhost:8080/"
        },
        "outputId": "a5f79e61-966c-47b6-85e2-6846d3284ed7"
      },
      "source": [
        "#check if the data is balance\n",
        "wta_data['target'].value_counts()"
      ],
      "execution_count": 17,
      "outputs": [
        {
          "output_type": "execute_result",
          "data": {
            "text/plain": [
              "1    59719\n",
              "0    59719\n",
              "Name: target, dtype: int64"
            ]
          },
          "metadata": {
            "tags": []
          },
          "execution_count": 17
        }
      ]
    },
    {
      "cell_type": "code",
      "metadata": {
        "id": "4w5I_Awn5PMk",
        "colab": {
          "base_uri": "https://localhost:8080/",
          "height": 349
        },
        "outputId": "64174f7f-bb4b-4945-cd4e-8139b565e32f"
      },
      "source": [
        "ax = sns.countplot(wta_data['target'], hue=wta_data['target'], palette=['blue', 'red'])\n",
        "ax.set(xlabel='Wins', ylabel='Count')\n",
        "ax.legend(title='Winning player', loc='upper center', labels=['Winner', 'Loser'])\n",
        "ax.set_title('Count of winning games')\n",
        "plt.show()"
      ],
      "execution_count": 18,
      "outputs": [
        {
          "output_type": "stream",
          "text": [
            "/usr/local/lib/python3.7/dist-packages/seaborn/_decorators.py:43: FutureWarning: Pass the following variable as a keyword arg: x. From version 0.12, the only valid positional argument will be `data`, and passing other arguments without an explicit keyword will result in an error or misinterpretation.\n",
            "  FutureWarning\n"
          ],
          "name": "stderr"
        },
        {
          "output_type": "display_data",
          "data": {
            "image/png": "[encoded data removed]",
            "text/plain": [
              "<Figure size 432x288 with 1 Axes>"
            ]
          },
          "metadata": {
            "tags": [],
            "needs_background": "light"
          }
        }
      ]
    },
    {
      "cell_type": "markdown",
      "metadata": {
        "id": "DaFA_tdI5PMl"
      },
      "source": [
        "**Checking correlation between features**"
      ]
    },
    {
      "cell_type": "code",
      "metadata": {
        "id": "Ha00KxOp5PMl",
        "colab": {
          "base_uri": "https://localhost:8080/"
        },
        "outputId": "0c2fd0ae-195a-40b7-b09d-3e632190592d"
      },
      "source": [
        "wta_data_corr = wta_data.corr()\n",
        "wta_data_corr['target'].sort_values(ascending=False)"
      ],
      "execution_count": 19,
      "outputs": [
        {
          "output_type": "execute_result",
          "data": {
            "text/plain": [
              "target                1.000000e+00\n",
              "player_rank_points    1.841243e-01\n",
              "player_height         3.715075e-02\n",
              "first_serve_won       1.893883e-02\n",
              "player_age            1.001561e-02\n",
              "second_serve_won      7.220266e-03\n",
              "ace                   3.701899e-03\n",
              "first_serve_made      3.578390e-04\n",
              "serve_game            2.823581e-04\n",
              "month                 1.006312e-18\n",
              "best_of              -1.036141e-19\n",
              "draw_size            -2.575920e-19\n",
              "day                  -8.126050e-19\n",
              "match_num            -4.078054e-18\n",
              "minutes              -7.204443e-18\n",
              "year                 -1.129621e-17\n",
              "double_fault         -2.578640e-03\n",
              "break_point_saved    -3.247645e-03\n",
              "service_points_won   -7.119074e-03\n",
              "break_point_faced    -1.264895e-02\n",
              "player_id            -4.991135e-02\n",
              "player_rank          -1.104391e-01\n",
              "player_seed          -2.060586e-01\n",
              "Unnamed: 0           -8.660254e-01\n",
              "Name: target, dtype: float64"
            ]
          },
          "metadata": {
            "tags": []
          },
          "execution_count": 19
        }
      ]
    },
    {
      "cell_type": "code",
      "metadata": {
        "id": "foYJnQbu5PMl",
        "colab": {
          "base_uri": "https://localhost:8080/",
          "height": 947
        },
        "outputId": "995347ad-50ac-4f9e-e38a-916e00f8f240"
      },
      "source": [
        "f, ax = plt.subplots(figsize= (30, 20))\n",
        "lower = wta_data_corr.where(np.tril(np.ones(wta_data_corr.shape)).astype(np.bool))\n",
        "hmap=sns.heatmap(lower,cmap=\"coolwarm\", annot=True)\n",
        "ax.set_title('Correlation heatmap')\n",
        "plt.savefig('clean-corr-half.png')"
      ],
      "execution_count": 20,
      "outputs": [
        {
          "output_type": "display_data",
          "data": {
            "image/png": "[encoded data removed]",
            "text/plain": [
              "<Figure size 2160x1440 with 2 Axes>"
            ]
          },
          "metadata": {
            "tags": [],
            "needs_background": "light"
          }
        }
      ]
    },
    {
      "cell_type": "markdown",
      "metadata": {
        "id": "a-Xjxfu_5PMm"
      },
      "source": [
        "**player_rank_points** is the highest positively correlated variable to the target variabl whereas **player_seed** is the negatively correlated to the target variable. "
      ]
    },
    {
      "cell_type": "markdown",
      "metadata": {
        "id": "J8th8llL5PMm"
      },
      "source": [
        "**Convert the categorical columns to numeric**"
      ]
    },
    {
      "cell_type": "code",
      "metadata": {
        "id": "ajdcKHA-5PMn"
      },
      "source": [
        "def encodeColumn(dataframe, column_list = []):\n",
        "    df = pd.get_dummies(dataframe, columns= column_list)\n",
        "    return df"
      ],
      "execution_count": 21,
      "outputs": []
    },
    {
      "cell_type": "code",
      "metadata": {
        "id": "vBfPVtFb5PMn",
        "colab": {
          "base_uri": "https://localhost:8080/"
        },
        "outputId": "c287320e-aaa0-4b99-a120-c5800135c6ad"
      },
      "source": [
        "wta_data_numerical = encodeColumn(wta_data, ['tourney_name','surface', 'tourney_level', 'player_hand','round'])\n",
        "wta_data_numerical.info()"
      ],
      "execution_count": 22,
      "outputs": [
        {
          "output_type": "stream",
          "text": [
            "<class 'pandas.core.frame.DataFrame'>\n",
            "RangeIndex: 119438 entries, 0 to 119437\n",
            "Columns: 2783 entries, Unnamed: 0 to round_SF\n",
            "dtypes: float64(15), int64(9), uint8(2759)\n",
            "memory usage: 336.1 MB\n"
          ],
          "name": "stdout"
        }
      ]
    },
    {
      "cell_type": "markdown",
      "metadata": {
        "id": "zdqYv-lp-CD4"
      },
      "source": [
        "**Split data into training and testing sets**"
      ]
    },
    {
      "cell_type": "code",
      "metadata": {
        "colab": {
          "base_uri": "https://localhost:8080/"
        },
        "id": "JhQ7485P-DIy",
        "outputId": "f42c6f05-887d-420d-b071-37f11bae8e92"
      },
      "source": [
        "X = wta_data_numerical.loc[:, wta_data_numerical.columns != 'target']\n",
        "y = wta_data_numerical['target']\n",
        "\n",
        "X_train, X_test, y_train, y_test = train_test_split(X, y, test_size=0.3, stratify=y, random_state=SEED)\n",
        "\n",
        "test_df = pd.concat([X_test, y_test], axis=1) \n",
        "train_df = pd.concat([X_train, y_train], axis=1)\n",
        "\n",
        "train_df.to_csv('train.csv', index=False)\n",
        "test_df.to_csv('test.csv', index = False)\n",
        "\n",
        "print('Labels count in y: ', np.bincount(y))\n",
        "print('Labels count in y_train ', np.bincount(y_train))\n",
        "print('Labels count in y_test', np.bincount(y_test))"
      ],
      "execution_count": 25,
      "outputs": [
        {
          "output_type": "stream",
          "text": [
            "Labels count in y:  [59719 59719]\n",
            "Labels count in y_train  [41803 41803]\n",
            "Labels count in y_test [17916 17916]\n"
          ],
          "name": "stdout"
        }
      ]
    },
    {
      "cell_type": "markdown",
      "metadata": {
        "id": "-1-Zfdg2H8u_"
      },
      "source": [
        "**Methodology**"
      ]
    },
    {
      "cell_type": "code",
      "metadata": {
        "id": "Hbf1VcpVF-G4"
      },
      "source": [
        "train_df = pd.read_csv('train.csv')\n",
        "test_df = pd.read_csv('test.csv')"
      ],
      "execution_count": 26,
      "outputs": []
    },
    {
      "cell_type": "code",
      "metadata": {
        "colab": {
          "base_uri": "https://localhost:8080/"
        },
        "id": "w67uYaJZJK2N",
        "outputId": "6f11a58d-5010-41b8-c37e-2c2d72c9d6ef"
      },
      "source": [
        "train_df.columns\n"
      ],
      "execution_count": 27,
      "outputs": [
        {
          "output_type": "execute_result",
          "data": {
            "text/plain": [
              "Index(['Unnamed: 0', 'draw_size', 'match_num', 'player_id', 'player_seed',\n",
              "       'player_height', 'player_age', 'best_of', 'minutes', 'ace',\n",
              "       ...\n",
              "       'round_BR', 'round_F', 'round_QF', 'round_R128', 'round_R16',\n",
              "       'round_R32', 'round_R64', 'round_RR', 'round_SF', 'target'],\n",
              "      dtype='object', length=2783)"
            ]
          },
          "metadata": {
            "tags": []
          },
          "execution_count": 27
        }
      ]
    },
    {
      "cell_type": "code",
      "metadata": {
        "id": "K2Fiqa72JNZW"
      },
      "source": [
        ""
      ],
      "execution_count": null,
      "outputs": []
    }
  ]
}